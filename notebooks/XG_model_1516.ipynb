{
 "cells": [
  {
   "cell_type": "markdown",
   "id": "assured-amino",
   "metadata": {},
   "source": [
    "# Expected Goals model for season 2015/2016"
   ]
  },
  {
   "cell_type": "markdown",
   "id": "bored-roulette",
   "metadata": {},
   "source": [
    "This notebook introduces you to the way in which the data will be wrangled and pre-processed as well as how each model will be instanced and how the predictions will be stored. I arbitrarily chose the 2015/2016 season to make predictions on each shot's probability of hitting the back of the net. First I will find every shot id from 2015/2016 to use it as a benchmark for my train test split. Then I will import the clean shots dataset and apply every pre-processing step that I found useful on the EDA notebook. Next I will split the train and test dataset using the shot ids retrieved at the initial step. The final step will be fitting the model, evaluating it and storing its predictions.  "
   ]
  },
  {
   "cell_type": "code",
   "execution_count": 1,
   "id": "animated-cincinnati",
   "metadata": {},
   "outputs": [],
   "source": [
    "import pandas as pd\n",
    "import numpy as np\n",
    "import matplotlib.pyplot as plt\n",
    "import os\n",
    "from scipy.stats import boxcox,skew\n",
    "from sklearn.preprocessing import MinMaxScaler,OneHotEncoder\n",
    "from sklearn.metrics import recall_score,precision_score, plot_confusion_matrix,plot_roc_curve\n",
    "from sklearn.neural_network import MLPClassifier\n",
    "from sklearn.model_selection import learning_curve\n",
    "\n",
    "%matplotlib inline"
   ]
  },
  {
   "cell_type": "markdown",
   "id": "opened-reasoning",
   "metadata": {},
   "source": [
    "Before retrieving the shots ids, I need to find every match id for the 2015/2016 season."
   ]
  },
  {
   "cell_type": "code",
   "execution_count": 2,
   "id": "abstract-fisher",
   "metadata": {},
   "outputs": [],
   "source": [
    "season_id = \"27\"\n",
    "competition_id = \"11\""
   ]
  },
  {
   "cell_type": "code",
   "execution_count": 3,
   "id": "oriental-israel",
   "metadata": {},
   "outputs": [],
   "source": [
    "full_path = '../data/matches/' + competition_id + \"/\" + season_id + '.json'\n",
    "match_df = pd.read_json(full_path)\n",
    "    "
   ]
  },
  {
   "cell_type": "code",
   "execution_count": 4,
   "id": "narrow-lightning",
   "metadata": {},
   "outputs": [],
   "source": [
    "matches_id = match_df[\"match_id\"].tolist()"
   ]
  },
  {
   "cell_type": "markdown",
   "id": "affecting-tonight",
   "metadata": {},
   "source": [
    "Now that I have every match id, it's time to loop over every match's events dataframe and find the event id for each shot. I will store these ids and move on to the next match."
   ]
  },
  {
   "cell_type": "code",
   "execution_count": 5,
   "id": "particular-going",
   "metadata": {},
   "outputs": [],
   "source": [
    "events_path = \"../data/events/\"\n",
    "shot_ids = list()\n",
    "\n",
    "for match in matches_id:\n",
    "    event_df = pd.read_json(events_path + str(match) + \".json\")\n",
    "    match_shots = event_df.dropna(subset=[\"shot\"], axis=0)[\"id\"].tolist()\n",
    "    shot_ids.extend(match_shots)\n",
    "    \n"
   ]
  },
  {
   "cell_type": "markdown",
   "id": "precious-soccer",
   "metadata": {},
   "source": [
    "The shot ids list is now filled. Next step is to import the entire shots clean dataset and preprocess it."
   ]
  },
  {
   "cell_type": "code",
   "execution_count": 6,
   "id": "supported-liberal",
   "metadata": {},
   "outputs": [],
   "source": [
    "data = pd.read_csv('../data/clean/xg/predictions.csv',index_col=\"id\")"
   ]
  },
  {
   "cell_type": "markdown",
   "id": "baking-treatment",
   "metadata": {},
   "source": [
    "The square root transformation and the boxcox will unskew the continuous predictors \"duration\" and \"location_x\"."
   ]
  },
  {
   "cell_type": "code",
   "execution_count": 7,
   "id": "portable-skirt",
   "metadata": {},
   "outputs": [],
   "source": [
    "data[\"duration\"] = np.sqrt(data[\"duration\"])"
   ]
  },
  {
   "cell_type": "code",
   "execution_count": 8,
   "id": "sporting-delivery",
   "metadata": {},
   "outputs": [],
   "source": [
    "data[\"location_x\"] = boxcox(data[\"location_x\"])[0]"
   ]
  },
  {
   "cell_type": "markdown",
   "id": "obvious-scale",
   "metadata": {},
   "source": [
    "The high collinearity between the features \"minute\" and \"possession\" implies that either one of them should be ingored or they should be transformed into a single variable using dimensionality reductions techniques such as the Principal Component Analysis (PCA). I chose to drop the \"minute\" for both simplicity and increased computational speed of the model as the column \"second\" does not add much vaue by itself without the latter. Therefore, two columns could be mremoved at the expense of the high collinearity of one."
   ]
  },
  {
   "cell_type": "code",
   "execution_count": 9,
   "id": "objective-curve",
   "metadata": {},
   "outputs": [],
   "source": [
    "data = data.drop([\"minute\", \"second\"], axis=1)"
   ]
  },
  {
   "cell_type": "markdown",
   "id": "spoken-gospel",
   "metadata": {},
   "source": [
    "Encoding the target feature to 1 if Goal and 0 if no Goal. This hasn't been done in previous steps such as data cleaning because other values that the \"outcome\" could have served the purpose of further data exploration."
   ]
  },
  {
   "cell_type": "code",
   "execution_count": 10,
   "id": "residential-casting",
   "metadata": {},
   "outputs": [],
   "source": [
    "data[\"outcome\"] = data[\"outcome\"].apply(lambda x: 1.0 if x==\"Goal\" else 0.0)"
   ]
  },
  {
   "cell_type": "markdown",
   "id": "excessive-guest",
   "metadata": {},
   "source": [
    "Scaling the continuous variables."
   ]
  },
  {
   "cell_type": "code",
   "execution_count": 11,
   "id": "thick-scratch",
   "metadata": {},
   "outputs": [],
   "source": [
    "min_max = MinMaxScaler()\n",
    "\n",
    "scaled_cols = ['possession','duration','location_x','location_y']\n",
    "\n",
    "data[scaled_cols] = min_max.fit_transform(data[scaled_cols])"
   ]
  },
  {
   "cell_type": "markdown",
   "id": "impossible-resource",
   "metadata": {},
   "source": [
    "One hot encoding the binary columns."
   ]
  },
  {
   "cell_type": "code",
   "execution_count": 12,
   "id": "processed-feeling",
   "metadata": {},
   "outputs": [],
   "source": [
    "one_hot = OneHotEncoder()\n",
    "\n",
    "encoded_cols = ['under_pressure','play','type','technique',\n",
    "                'body_part','first_time','one_on_one','aerial_won',\n",
    "                'pos','redirect','deflected','open_goal','follows_dribble']\n",
    "\n",
    "df_encoded_cols = pd.get_dummies(data[encoded_cols], drop_first=True)\n",
    "\n",
    "data = data.drop(encoded_cols, axis=1)\n",
    "\n",
    "data = pd.concat([data, df_encoded_cols], axis=1)"
   ]
  },
  {
   "cell_type": "markdown",
   "id": "animated-wildlife",
   "metadata": {},
   "source": [
    "Now I will split my data into train and test according to the shot_ids entioned above. I will made a couple of unit tests to ensure that both train and test amount to the size of the full dataset and the test dataframe is the same size as the shot ids."
   ]
  },
  {
   "cell_type": "code",
   "execution_count": 13,
   "id": "educational-start",
   "metadata": {},
   "outputs": [],
   "source": [
    "test = data.copy()[data.index.isin(shot_ids)]"
   ]
  },
  {
   "cell_type": "code",
   "execution_count": 14,
   "id": "spoken-contractor",
   "metadata": {},
   "outputs": [],
   "source": [
    "train = data.copy()[~data.index.isin(shot_ids)]"
   ]
  },
  {
   "cell_type": "code",
   "execution_count": 15,
   "id": "incorporate-saying",
   "metadata": {},
   "outputs": [],
   "source": [
    "X_test = test.drop('outcome', axis=1)\n",
    "\n",
    "y_test = test[['outcome']]"
   ]
  },
  {
   "cell_type": "code",
   "execution_count": 16,
   "id": "three-booth",
   "metadata": {},
   "outputs": [],
   "source": [
    "X_train = train.drop('outcome', axis=1)\n",
    "\n",
    "y_train = train[['outcome']]"
   ]
  },
  {
   "cell_type": "code",
   "execution_count": 17,
   "id": "bibliographic-pressure",
   "metadata": {},
   "outputs": [],
   "source": [
    "assert len(data) == len(train) + len(test)"
   ]
  },
  {
   "cell_type": "code",
   "execution_count": 18,
   "id": "worse-boulder",
   "metadata": {},
   "outputs": [],
   "source": [
    "assert len(test) == len(shot_ids)"
   ]
  },
  {
   "cell_type": "markdown",
   "id": "impaired-stereo",
   "metadata": {},
   "source": [
    "Now we will instantiate the model and evaluate as it is training. These model hyperparameters were given by the model selection notebook based on a combination of the accuracy score, recall and precision."
   ]
  },
  {
   "cell_type": "code",
   "execution_count": 19,
   "id": "threatened-liquid",
   "metadata": {},
   "outputs": [],
   "source": [
    "mlp = MLPClassifier(max_iter=1000,activation= 'relu',hidden_layer_sizes= (32,16, 8, 4),learning_rate= 'adaptive',solver= 'adam')"
   ]
  },
  {
   "cell_type": "code",
   "execution_count": 20,
   "id": "structural-smile",
   "metadata": {},
   "outputs": [
    {
     "data": {
      "image/png": "[encoded data removed]",
      "text/plain": [
       "<Figure size 432x288 with 1 Axes>"
      ]
     },
     "metadata": {
      "needs_background": "light"
     },
     "output_type": "display_data"
    }
   ],
   "source": [
    "plt.figure()\n",
    "plt.title(\"Multi-Layer Perceptron\")\n",
    "plt.xlabel(\"Training examples\")\n",
    "plt.ylabel(\"Score\")\n",
    "train_sizes, train_scores, test_scores = learning_curve(mlp, X_train, np.ravel(y_train),cv=3, \n",
    "                                                        train_sizes=np.linspace(.1, 1.0, 5), scoring='accuracy')\n",
    "train_scores_mean = np.mean(train_scores, axis=1)\n",
    "train_scores_std = np.std(train_scores, axis=1)\n",
    "test_scores_mean = np.mean(test_scores, axis=1)\n",
    "test_scores_std = np.std(test_scores, axis=1)\n",
    "plt.grid()\n",
    "\n",
    "plt.fill_between(train_sizes, train_scores_mean - train_scores_std,train_scores_mean + train_scores_std, alpha=0.1,color=\"r\")\n",
    "plt.fill_between(train_sizes, test_scores_mean - test_scores_std,test_scores_mean + test_scores_std, alpha=0.1, color=\"g\")\n",
    "plt.plot(train_sizes, train_scores_mean, 'o-', color=\"r\",label=\"Training score\")\n",
    "plt.plot(train_sizes, test_scores_mean, 'o-', color=\"g\",label=\"Test Set score\")\n",
    "\n",
    "plt.legend(loc=\"best\")\n",
    "plt.show()"
   ]
  },
  {
   "cell_type": "markdown",
   "id": "manual-adelaide",
   "metadata": {},
   "source": [
    "As you can see, the training and test scores are converging and the generalization gap is positive, implying that the model is not overfitting."
   ]
  },
  {
   "cell_type": "code",
   "execution_count": 21,
   "id": "modified-school",
   "metadata": {},
   "outputs": [
    {
     "data": {
      "text/plain": [
       "MLPClassifier(hidden_layer_sizes=(32, 16, 8, 4), learning_rate='adaptive',\n",
       "              max_iter=1000)"
      ]
     },
     "execution_count": 21,
     "metadata": {},
     "output_type": "execute_result"
    }
   ],
   "source": [
    "mlp.fit(X_train,np.ravel(y_train))"
   ]
  },
  {
   "cell_type": "code",
   "execution_count": 22,
   "id": "fifteen-evans",
   "metadata": {},
   "outputs": [],
   "source": [
    "test[\"pred\"] = mlp.predict_proba(X_test)[:,1]"
   ]
  },
  {
   "cell_type": "code",
   "execution_count": 23,
   "id": "sharp-adjustment",
   "metadata": {},
   "outputs": [
    {
     "name": "stdout",
     "output_type": "stream",
     "text": [
      "\n",
      "\n",
      "The accuracy score is : 0.8624849215922799\n",
      "The recall score is : 0.36752136752136755\n",
      "The precision score is : 0.5180722891566265\n",
      "\n",
      "\n"
     ]
    }
   ],
   "source": [
    "print(\"\\n\")\n",
    "print(\"The accuracy score is : \" + str(mlp.score(X_test,y_test)))\n",
    "print(\"The recall score is : \" + str(recall_score(test[\"outcome\"],test[\"pred\"].round(0))))\n",
    "print(\"The precision score is : \" + str(precision_score(test[\"outcome\"],test[\"pred\"].round(0))))\n",
    "print(\"\\n\")"
   ]
  },
  {
   "cell_type": "code",
   "execution_count": 24,
   "id": "sized-central",
   "metadata": {},
   "outputs": [
    {
     "data": {
      "image/png": "[encoded data removed]",
      "text/plain": [
       "<Figure size 432x288 with 2 Axes>"
      ]
     },
     "metadata": {
      "needs_background": "light"
     },
     "output_type": "display_data"
    }
   ],
   "source": [
    "plot_confusion_matrix(mlp,X_test,y_test, cmap='Blues')\n",
    "plt.show()"
   ]
  },
  {
   "cell_type": "code",
   "execution_count": 25,
   "id": "right-falls",
   "metadata": {},
   "outputs": [
    {
     "data": {
      "image/png": "[encoded data removed]",
      "text/plain": [
       "<Figure size 432x288 with 1 Axes>"
      ]
     },
     "metadata": {
      "needs_background": "light"
     },
     "output_type": "display_data"
    }
   ],
   "source": [
    "plot_roc_curve(mlp, X_test, y_test, drop_intermediate=False)\n",
    "plt.plot([0, 1], [0, 1], linestyle='--', color='r')\n",
    "plt.show() "
   ]
  },
  {
   "cell_type": "markdown",
   "id": "roman-basin",
   "metadata": {},
   "source": [
    "Despite the low recall score, the model overall performance is satisfactory and serves the purpose of associating the likelihood of a goal to a given shot. The amount of True Positives could be higher but that would be at the expense of many more False Positives."
   ]
  }
 ],
 "metadata": {
  "kernelspec": {
   "display_name": "Python 3",
   "language": "python",
   "name": "python3"
  },
  "language_info": {
   "codemirror_mode": {
    "name": "ipython",
    "version": 3
   },
   "file_extension": ".py",
   "mimetype": "text/x-python",
   "name": "python",
   "nbconvert_exporter": "python",
   "pygments_lexer": "ipython3",
   "version": "3.8.2"
  }
 },
 "nbformat": 4,
 "nbformat_minor": 5
}
